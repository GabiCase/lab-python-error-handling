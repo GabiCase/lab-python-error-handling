{
 "cells": [
  {
   "cell_type": "markdown",
   "id": "25d7736c-ba17-4aff-b6bb-66eba20fbf4e",
   "metadata": {},
   "source": [
    "# Lab | Error Handling"
   ]
  },
  {
   "cell_type": "markdown",
   "id": "bc99b386-7508-47a0-bcdb-d969deaf6c8b",
   "metadata": {},
   "source": [
    "## Exercise: Error Handling for Managing Customer Orders\n",
    "\n",
    "The implementation of your code for managing customer orders assumes that the user will always enter a valid input. \n",
    "\n",
    "For example, we could modify the `initialize_inventory` function to include error handling.\n",
    "   - If the user enters an invalid quantity (e.g., a negative value or a non-numeric value), display an error message and ask them to re-enter the quantity for that product.\n",
    "   - Use a try-except block to handle the error and continue prompting the user until a valid quantity is entered.\n",
    "\n",
    "```python\n",
    "# Step 1: Define the function for initializing the inventory with error handling\n",
    "def initialize_inventory(products):\n",
    "    inventory = {}\n",
    "    \n",
    "    for product in products:\n",
    "        valid_quantity = False\n",
    "        while not valid_quantity:\n",
    "            try:\n",
    "                quantity = int(input(f\"Enter the quantity of {product}s available: \"))\n",
    "                if quantity < 0:\n",
    "                    raise ValueError(\"Invalid quantity! Please enter a non-negative value.\")\n",
    "                valid_quantity = True\n",
    "            except ValueError as error:\n",
    "                print(f\"Error: {error}\")\n",
    "        inventory[product] = quantity\n",
    "    return inventory\n",
    "\n",
    "# Or, in another way:\n",
    "\n",
    "def initialize_inventory(products):\n",
    "    inventory = {}\n",
    "    for product in products:\n",
    "        valid_input = False\n",
    "        while not valid_input:\n",
    "            try:\n",
    "                quantity = int(input(f\"Enter the quantity of {product}s available: \"))\n",
    "                if quantity >= 0:\n",
    "                    inventory[product] = quantity\n",
    "                    valid_input = True\n",
    "                else:\n",
    "                    print(\"Quantity cannot be negative. Please enter a valid quantity.\")\n",
    "            except ValueError:\n",
    "                print(\"Invalid input. Please enter a valid quantity.\")\n",
    "    return inventory\n",
    "```\n",
    "\n",
    "Let's enhance your code by implementing error handling to handle invalid inputs.\n",
    "\n",
    "Follow the steps below to complete the exercise:\n",
    "\n",
    "2. Modify the `calculate_total_price` function to include error handling.\n",
    "   - If the user enters an invalid price (e.g., a negative value or a non-numeric value), display an error message and ask them to re-enter the price for that product.\n",
    "   - Use a try-except block to handle the error and continue prompting the user until a valid price is entered.\n",
    "\n",
    "3. Modify the `get_customer_orders` function to include error handling.\n",
    "   - If the user enters an invalid number of orders (e.g., a negative value or a non-numeric value), display an error message and ask them to re-enter the number of orders.\n",
    "   - If the user enters an invalid product name (e.g., a product name that is not in the inventory), or that doesn't have stock available, display an error message and ask them to re-enter the product name. *Hint: you will need to pass inventory as a parameter*\n",
    "   - Use a try-except block to handle the error and continue prompting the user until a valid product name is entered.\n",
    "\n",
    "4. Test your code by running the program and deliberately entering invalid quantities and product names. Make sure the error handling mechanism works as expected.\n"
   ]
  },
  {
   "cell_type": "code",
   "execution_count": 34,
   "id": "a5d61816",
   "metadata": {},
   "outputs": [],
   "source": [
    "def is_number(input):\n",
    "    try:\n",
    "        float(input)  # Intentamos convertir el string a un número decimal\n",
    "        return True\n",
    "    except ValueError:\n",
    "        return False"
   ]
  },
  {
   "cell_type": "code",
   "execution_count": 35,
   "id": "17467e36",
   "metadata": {},
   "outputs": [],
   "source": [
    "def initialize_inventory(products):\n",
    "    inventory = {}\n",
    "    for product in products:\n",
    "        valid_quantity = False\n",
    "        while not valid_quantity:\n",
    "            print(\"i\")\n",
    "            try:\n",
    "                quantity = int(input(f\"Enter the quantity of {product}s available: \"))\n",
    "                if quantity < 0:\n",
    "                    raise ValueError(\"Invalid quantity! Please enter a non-negative value.\")\n",
    "                valid_quantity = True\n",
    "            except ValueError as error:\n",
    "                print(f\"Error: {error}\")\n",
    "        inventory[product] = quantity\n",
    "    return inventory\n"
   ]
  },
  {
   "cell_type": "markdown",
   "id": "8c860383",
   "metadata": {},
   "source": [
    "3. Modify the `get_customer_orders` function to include error handling.\n",
    "   - If the user enters an invalid number of orders (e.g., a negative value or a non-numeric value), display an error message and ask them to re-enter the number of orders.\n",
    "   - If the user enters an invalid product name (e.g., a product name that is not in the inventory), or that doesn't have stock available, display an error message and ask them to re-enter the product name. *Hint: you will need to pass inventory as a parameter*\n",
    "   - Use a try-except block to handle the error and continue prompting the user until a valid product name is entered."
   ]
  },
  {
   "cell_type": "code",
   "execution_count": 36,
   "id": "9c444c67",
   "metadata": {},
   "outputs": [],
   "source": [
    "def get_customer_orders(inventory):\n",
    "    customer_orders=[]\n",
    "\n",
    "    while True:\n",
    "        try:\n",
    "            total_products_order= int(input(\"How many orders do you want? \"))\n",
    "            if total_products_order<0:\n",
    "                raise ValueError(\"Invalid quantity! Please enter a non-negative value.\")    \n",
    "            break\n",
    "        except ValueError as _:\n",
    "            print(f\"Please enter a number\")\n",
    "    for product in range(total_products_order):\n",
    "        while True:\n",
    "            try:\n",
    "                product= input(\"Enter the name of the product: \") \n",
    "                if is_number(product):\n",
    "                    raise ValueError(\"Invalid input! Please enter a word.\")\n",
    "                elif product not in inventory:\n",
    "                    raise ValueError(f\"Invalid input! Please enter a product from inventory: {', '.join(inventory)}.\")\n",
    "                else:\n",
    "                    print(f\"Asked for a {product}\")\n",
    "                    customer_orders.append(product)  \n",
    "                    break\n",
    "            except ValueError as e:\n",
    "                print(f\"Error: {e}\") \n",
    "    return customer_orders\n"
   ]
  },
  {
   "cell_type": "markdown",
   "id": "c66bd482",
   "metadata": {},
   "source": [
    "2. Modify the `calculate_total_price` function to include error handling.\n",
    "   - If the user enters an invalid price (e.g., a negative value or a non-numeric value), display an error message and ask them to re-enter the price for that product.\n",
    "   - Use a try-except block to handle the error and continue prompting the user until a valid price is entered."
   ]
  },
  {
   "cell_type": "code",
   "execution_count": 37,
   "id": "368d3cd5",
   "metadata": {},
   "outputs": [],
   "source": [
    "\n",
    "\n",
    "def calculate_total_price(customer_orders):\n",
    "    total_price = 0\n",
    "\n",
    "    for product in customer_orders:\n",
    "        while True:\n",
    "            price=input(f\"Set a price to {product}\")\n",
    "            try:\n",
    "                #comprobamos que el precio no sea una letra\n",
    "                if not is_number(price):\n",
    "                    raise ValueError(\"Please enter a number\")   \n",
    "                 #comprobamos que el precio no sea negativo               \n",
    "                elif int(price)<0:\n",
    "                    raise ValueError(\"Please enter a positive number\")\n",
    "                #si el precio es un número positivo lo sumamos al total\n",
    "                else:\n",
    "                    print(f\"Price of {product} is set to {price}\")\n",
    "                    total_price+= int(price) \n",
    "                    break  \n",
    "            #comprobamos otros tipos de errores\n",
    "            except ValueError as error:\n",
    "                print(f\"Error:{error}\")\n",
    "                   \n",
    "    print(f\"Total price of the customer order is {total_price}\")\n",
    "    return total_price\n",
    "\n",
    "\n"
   ]
  },
  {
   "cell_type": "code",
   "execution_count": 41,
   "id": "45cd2654",
   "metadata": {},
   "outputs": [
    {
     "name": "stdout",
     "output_type": "stream",
     "text": [
      "i\n",
      "i\n",
      "i\n",
      "i\n",
      "i\n",
      "Error: Invalid input! Please enter a product from inventory: mug, hat, backpack, sack.\n",
      "Error: Invalid input! Please enter a word.\n",
      "Asked for a mug\n",
      "Asked for a hat\n",
      "Error:Please enter a number\n",
      "Error:Please enter a positive number\n",
      "Price of mug is set to 4\n",
      "Price of hat is set to 8\n",
      "Total price of the customer order is 12\n"
     ]
    },
    {
     "data": {
      "text/plain": [
       "12"
      ]
     },
     "execution_count": 41,
     "metadata": {},
     "output_type": "execute_result"
    }
   ],
   "source": [
    "products= [\"mug\",\"hat\",\"backpack\",\"sack\",\"hat\"]\n",
    "inventory=initialize_inventory(products)\n",
    "customer_orders=get_customer_orders(inventory)\n",
    "calculate_total_price(customer_orders)\n"
   ]
  }
 ],
 "metadata": {
  "kernelspec": {
   "display_name": "Python 3 (ipykernel)",
   "language": "python",
   "name": "python3"
  },
  "language_info": {
   "codemirror_mode": {
    "name": "ipython",
    "version": 3
   },
   "file_extension": ".py",
   "mimetype": "text/x-python",
   "name": "python",
   "nbconvert_exporter": "python",
   "pygments_lexer": "ipython3",
   "version": "3.8.3"
  }
 },
 "nbformat": 4,
 "nbformat_minor": 5
}
